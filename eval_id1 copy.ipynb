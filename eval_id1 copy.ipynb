{
 "cells": [
  {
   "cell_type": "code",
   "execution_count": 3,
   "metadata": {},
   "outputs": [
    {
     "name": "stderr",
     "output_type": "stream",
     "text": [
      "\u001b[34m\u001b[1mwandb\u001b[0m:   1 of 1 files downloaded.  \n"
     ]
    }
   ],
   "source": [
    "# use wandb artifact outside a run\n",
    "\n",
    "import wandb\n",
    "\n",
    "api = wandb.Api()\n",
    "artifact = api.artifact('greatml/FedSPK/Artifact0.8790510733321198:v0')\n",
    "\n",
    "datadir = artifact.download()\n"
   ]
  },
  {
   "cell_type": "code",
   "execution_count": 4,
   "metadata": {},
   "outputs": [],
   "source": [
    "import torch\n",
    "\n",
    "def loadParameters(model, path, map_location=\"cuda:0\"):\n",
    "\n",
    "    self_state = model.state_dict()\n",
    "    loaded_state = torch.load(path, map_location=map_location)\n",
    "\n",
    "    for name, param in loaded_state.items():\n",
    "        if '__L__.W' in name:\n",
    "            continue\n",
    "\n",
    "        origname = name\n",
    "        if name not in self_state:\n",
    "            name = name.replace(\"module.\", \"\")\n",
    "            if name not in self_state:\n",
    "                name = \"__S__.\"+name\n",
    "                if name not in self_state:\n",
    "                    print(\"#%s is not in the model.\" % origname)\n",
    "                    continue\n",
    "\n",
    "        if self_state[name].size() != loaded_state[origname].size():\n",
    "            print(\"#Wrong parameter length: %s, model: %s, loaded: %s\" % (\n",
    "                origname, self_state[name].size(), loaded_state['model'][origname].size()))\n",
    "            continue\n",
    "\n",
    "        self_state[name].copy_(param)"
   ]
  },
  {
   "cell_type": "code",
   "execution_count": 5,
   "metadata": {},
   "outputs": [],
   "source": [
    "# %%\n",
    "import time\n",
    "from src.DatasetLoader import loadWAV\n",
    "import os\n",
    "import sys\n",
    "\n",
    "\n",
    "def evaluateFromList(model, listfilename, print_interval=100, test_path='', num_eval=10, eval_frames=0, verbose=True):\n",
    "\n",
    "    model = model.cuda()\n",
    "\n",
    "    model.eval()\n",
    "\n",
    "    labels = []\n",
    "    files = []\n",
    "    feats = []\n",
    "    tstart = time.time()\n",
    "\n",
    "    # Read all lines\n",
    "    with open(listfilename) as listfile:\n",
    "        while True:\n",
    "            line = listfile.readline()\n",
    "            if (not line):\n",
    "                break\n",
    "\n",
    "            data = line.split()\n",
    "\n",
    "            files.append(data[1])\n",
    "            labels.append(data[0])\n",
    "\n",
    "    f_labels = []\n",
    "    # Save all features to file\n",
    "    for idx, (file, label) in enumerate(zip(files, labels)):\n",
    "\n",
    "        inp1 = torch.FloatTensor(loadWAV(os.path.join(\n",
    "            test_path, file), eval_frames, evalmode=True, num_eval=num_eval)).cuda()\n",
    "\n",
    "        try:\n",
    "            ref_feat = model.forward(inp1).detach().cpu()\n",
    "        except:\n",
    "            print(\"Error in file: \", file)\n",
    "            continue\n",
    "\n",
    "        feats.append(ref_feat)\n",
    "        f_labels.append(label)\n",
    "\n",
    "        telapsed = time.time() - tstart\n",
    "\n",
    "        if (idx % print_interval == 0) and verbose:\n",
    "            sys.stdout.write(\"\\rReading %d of %d: %.2f Hz, embedding size %d\" % (\n",
    "                idx, len(files), idx/telapsed, ref_feat.size()[1]))\n",
    "\n",
    "    tstart = time.time()\n",
    "\n",
    "    return feats, f_labels\n"
   ]
  },
  {
   "cell_type": "code",
   "execution_count": 6,
   "metadata": {},
   "outputs": [],
   "source": [
    "def generate_dictkeys(input_file):\n",
    "    ### Read Training Files...\n",
    "    with open(input_file) as dataset_file:\n",
    "        lines = dataset_file.readlines()\n",
    "\n",
    "    dictkeys = list(set([x.split()[0] for x in lines]))\n",
    "    dictkeys.sort()\n",
    "    dictkeys = { key : ii for ii, key in enumerate(dictkeys) }\n",
    "    # len_dictkeys_ori = len(dictkeys)\n",
    "\n",
    "    label_dict = {}\n",
    "    data_list  = []\n",
    "    data_label = []\n",
    "\n",
    "    lidx = 0\n",
    "    for _, line in enumerate(lines):\n",
    "        data = line.strip().split()\n",
    "\n",
    "        speaker_label = dictkeys[data[0]]\n",
    "        filename = os.path.join('', data[1])\n",
    "\n",
    "        if not (speaker_label in label_dict):\n",
    "            label_dict[speaker_label] = []\n",
    "\n",
    "        label_dict[speaker_label].append(lidx)\n",
    "        \n",
    "        data_label.append(speaker_label)\n",
    "        data_list.append(filename)\n",
    "\n",
    "        lidx += 1\n",
    "\n",
    "    return dictkeys"
   ]
  },
  {
   "cell_type": "code",
   "execution_count": 7,
   "metadata": {},
   "outputs": [],
   "source": [
    "dictkeys = generate_dictkeys('/workspace/flearn_data/IDtrain_list_G2.txt')"
   ]
  },
  {
   "cell_type": "code",
   "execution_count": 8,
   "metadata": {},
   "outputs": [],
   "source": [
    "from src.DatasetLoader import get_data_loader_speaker\n",
    "\n",
    "dataloader = get_data_loader_speaker(0, dataset_file_name='/workspace/flearn_data/IDtrain_list_G2.txt', \n",
    "        batch_size=128, augment=False, musan_path='/nvme/zhiyong/musan_split', \n",
    "        rir_path='/nvme/zhiyong/RIRS_NOISES/simulated_rirs', max_frames=300, \n",
    "        max_seg_per_spk=100, nDataLoaderThread=8, nPerSpeaker=1, \n",
    "        train_path='', sox_aug=False)"
   ]
  },
  {
   "cell_type": "code",
   "execution_count": 9,
   "metadata": {},
   "outputs": [
    {
     "name": "stdout",
     "output_type": "stream",
     "text": [
      "X_vector.py, Embedding size is 192,  Spec_aug False.\n",
      "Initialised Softmax Loss\n",
      "Initialised Softmax Loss\n"
     ]
    }
   ],
   "source": [
    "# %%\n",
    "from src.SpeakerNet import SpeakerNet\n",
    "\n",
    "model = SpeakerNet(model='X_vector', trainfunc='softmax', nPerSpeaker=1, Syncbatch=False,\n",
    "                   n_mels=40, nOut=192, spec_aug=False, nClasses=5994, additional_model=[True, False], ID_task=len(dictkeys))\n"
   ]
  },
  {
   "cell_type": "code",
   "execution_count": 29,
   "metadata": {},
   "outputs": [],
   "source": [
    "# %%\n",
    "loadParameters(model, datadir +\n",
    "               '/STD: std_FL test compact testing, canoical.pth')\n"
   ]
  },
  {
   "cell_type": "code",
   "execution_count": 25,
   "metadata": {},
   "outputs": [
    {
     "data": {
      "text/plain": [
       "['__S__.torchfb.0.flipped_filter',\n",
       " '__S__.torchfb.1.spectrogram.window',\n",
       " '__S__.torchfb.1.mel_scale.fb',\n",
       " '__S__.tdnn1.0.weight',\n",
       " '__S__.tdnn1.0.bias',\n",
       " '__S__.tdnn1.2.weight',\n",
       " '__S__.tdnn1.2.bias',\n",
       " '__S__.tdnn1.2.running_mean',\n",
       " '__S__.tdnn1.2.running_var',\n",
       " '__S__.tdnn1.2.num_batches_tracked',\n",
       " '__S__.tdnn2.0.weight',\n",
       " '__S__.tdnn2.0.bias',\n",
       " '__S__.tdnn2.2.weight',\n",
       " '__S__.tdnn2.2.bias',\n",
       " '__S__.tdnn2.2.running_mean',\n",
       " '__S__.tdnn2.2.running_var',\n",
       " '__S__.tdnn2.2.num_batches_tracked',\n",
       " '__S__.tdnn3.0.weight',\n",
       " '__S__.tdnn3.0.bias',\n",
       " '__S__.tdnn3.2.weight',\n",
       " '__S__.tdnn3.2.bias',\n",
       " '__S__.tdnn3.2.running_mean',\n",
       " '__S__.tdnn3.2.running_var',\n",
       " '__S__.tdnn3.2.num_batches_tracked',\n",
       " '__S__.tdnn4.0.weight',\n",
       " '__S__.tdnn4.0.bias',\n",
       " '__S__.tdnn4.2.weight',\n",
       " '__S__.tdnn4.2.bias',\n",
       " '__S__.tdnn4.2.running_mean',\n",
       " '__S__.tdnn4.2.running_var',\n",
       " '__S__.tdnn4.2.num_batches_tracked',\n",
       " '__S__.tdnn5.0.weight',\n",
       " '__S__.tdnn5.0.bias',\n",
       " '__S__.tdnn5.2.weight',\n",
       " '__S__.tdnn5.2.bias',\n",
       " '__S__.tdnn5.2.running_mean',\n",
       " '__S__.tdnn5.2.running_var',\n",
       " '__S__.tdnn5.2.num_batches_tracked',\n",
       " '__S__.pooling.linear1.weight',\n",
       " '__S__.pooling.linear1.bias',\n",
       " '__S__.pooling.linear2.weight',\n",
       " '__S__.pooling.linear2.bias',\n",
       " '__S__.embedding_layer1.linear.weight',\n",
       " '__S__.embedding_layer1.linear.bias',\n",
       " '__S__.embedding_layer1.batchnorm.weight',\n",
       " '__S__.embedding_layer1.batchnorm.bias',\n",
       " '__S__.embedding_layer1.batchnorm.running_mean',\n",
       " '__S__.embedding_layer1.batchnorm.running_var',\n",
       " '__S__.embedding_layer1.batchnorm.num_batches_tracked',\n",
       " '__L__.fc.weight',\n",
       " '__L__.fc.bias',\n",
       " '__L__.encoder_layers.self_attn.in_proj_weight',\n",
       " '__L__.encoder_layers.self_attn.in_proj_bias',\n",
       " '__L__.encoder_layers.self_attn.out_proj.weight',\n",
       " '__L__.encoder_layers.self_attn.out_proj.bias',\n",
       " '__L__.encoder_layers.linear1.weight',\n",
       " '__L__.encoder_layers.linear1.bias',\n",
       " '__L__.encoder_layers.linear2.weight',\n",
       " '__L__.encoder_layers.linear2.bias',\n",
       " '__L__.encoder_layers.norm1.weight',\n",
       " '__L__.encoder_layers.norm1.bias',\n",
       " '__L__.encoder_layers.norm2.weight',\n",
       " '__L__.encoder_layers.norm2.bias',\n",
       " '__L__.transformer_encoder.layers.0.self_attn.in_proj_weight',\n",
       " '__L__.transformer_encoder.layers.0.self_attn.in_proj_bias',\n",
       " '__L__.transformer_encoder.layers.0.self_attn.out_proj.weight',\n",
       " '__L__.transformer_encoder.layers.0.self_attn.out_proj.bias',\n",
       " '__L__.transformer_encoder.layers.0.linear1.weight',\n",
       " '__L__.transformer_encoder.layers.0.linear1.bias',\n",
       " '__L__.transformer_encoder.layers.0.linear2.weight',\n",
       " '__L__.transformer_encoder.layers.0.linear2.bias',\n",
       " '__L__.transformer_encoder.layers.0.norm1.weight',\n",
       " '__L__.transformer_encoder.layers.0.norm1.bias',\n",
       " '__L__.transformer_encoder.layers.0.norm2.weight',\n",
       " '__L__.transformer_encoder.layers.0.norm2.bias',\n",
       " '__L__.transformer_encoder.layers.1.self_attn.in_proj_weight',\n",
       " '__L__.transformer_encoder.layers.1.self_attn.in_proj_bias',\n",
       " '__L__.transformer_encoder.layers.1.self_attn.out_proj.weight',\n",
       " '__L__.transformer_encoder.layers.1.self_attn.out_proj.bias',\n",
       " '__L__.transformer_encoder.layers.1.linear1.weight',\n",
       " '__L__.transformer_encoder.layers.1.linear1.bias',\n",
       " '__L__.transformer_encoder.layers.1.linear2.weight',\n",
       " '__L__.transformer_encoder.layers.1.linear2.bias',\n",
       " '__L__.transformer_encoder.layers.1.norm1.weight',\n",
       " '__L__.transformer_encoder.layers.1.norm1.bias',\n",
       " '__L__.transformer_encoder.layers.1.norm2.weight',\n",
       " '__L__.transformer_encoder.layers.1.norm2.bias',\n",
       " '_SpeakerNet__L__ID.fc.weight',\n",
       " '_SpeakerNet__L__ID.fc.bias']"
      ]
     },
     "execution_count": 25,
     "metadata": {},
     "output_type": "execute_result"
    }
   ],
   "source": [
    "list(model.state_dict().keys())"
   ]
  },
  {
   "cell_type": "code",
   "execution_count": 10,
   "metadata": {},
   "outputs": [],
   "source": [
    "def client_update(model, dataloader, epoch=10, id=1, wandb_run=None):\n",
    "    \"\"\"Update local model using local dataset.\"\"\"\n",
    "    model.train()\n",
    "    model.to('cuda')\n",
    "    step_count = 0\n",
    "\n",
    "\n",
    "    optimizer = torch.optim.SGD(model._SpeakerNet__L__ID.parameters(), lr = 1e-2, momentum = 0.9, weight_decay=5e-4)\n",
    "    \n",
    "    for e in range(epoch):\n",
    "        loss_total = 0\n",
    "        prec_total = 0\n",
    "        counter = 0\n",
    "        for data, data_label in dataloader:\n",
    "            step_count += 1\n",
    "\n",
    "            # data, labels = data.float().to(self.device), labels.long().to(self.device)\n",
    "            data    = data.transpose(1,0)\n",
    "            label   = torch.LongTensor(data_label).cuda()\n",
    "\n",
    "            optimizer.zero_grad()\n",
    "\n",
    "            loss, prec = model(data, label)\n",
    "\n",
    "            loss.backward()\n",
    "            optimizer.step()\n",
    "\n",
    "            loss_total += loss.detach().cpu().numpy()\n",
    "            prec_total += prec.detach().cpu().numpy()\n",
    "            counter += 1\n",
    "            sys.stdout.write(\"Epoch %d Step %f Loss %f Prec %f\\r\"%(e+1, step_count, loss_total/counter, prec_total/counter))\n",
    "            sys.stdout.flush()\n",
    "            \n",
    "            torch.cuda.empty_cache()\n",
    "    \n",
    "    # create a directory\n",
    "    pth_dir = '/workspace/FL_log/'+wandb_run.notes\n",
    "    if not os.path.exists(pth_dir):\n",
    "        os.makedirs(pth_dir)\n",
    "    \n",
    "    # save the model\n",
    "    torch.save(model.state_dict(), pth_dir+'/ID_model%d.pth'%id)\n",
    "\n",
    "    # create a wandb run and upload the pth to wandb using artifacts\n",
    "    \n",
    "    artifact = wandb.Artifact('ID_model%d'%id, type='model', description=wandb_run.notes)\n",
    "    artifact.add_file(pth_dir+'/ID_model%d.pth'%id)\n",
    "    wandb_run.log_artifact(artifact)"
   ]
  },
  {
   "cell_type": "code",
   "execution_count": 11,
   "metadata": {},
   "outputs": [],
   "source": [
    "def train_id_model(model_path, train_dataset, id, wandb_run):\n",
    "    dictkeys = generate_dictkeys(train_dataset)\n",
    "\n",
    "    dataloader = get_data_loader_speaker(0, dataset_file_name=train_dataset, \n",
    "            batch_size=128, augment=False, musan_path='/nvme/zhiyong/musan_split', \n",
    "            rir_path='/nvme/zhiyong/RIRS_NOISES/simulated_rirs', max_frames=300, \n",
    "            max_seg_per_spk=100, nDataLoaderThread=8, nPerSpeaker=1, \n",
    "            train_path='', sox_aug=False)\n",
    "    \n",
    "    model = SpeakerNet(model='X_vector', trainfunc='softmax', nPerSpeaker=1, Syncbatch=False,\n",
    "                    n_mels=40, nOut=192, spec_aug=False, nClasses=5994, additional_model=[True, False], ID_task=len(dictkeys))\n",
    "    \n",
    "    loadParameters(model, model_path)\n",
    "\n",
    "    client_update(model, dataloader, epoch=100, id=id, wandb_run=wandb_run)\n",
    "    "
   ]
  },
  {
   "cell_type": "code",
   "execution_count": 30,
   "metadata": {},
   "outputs": [
    {
     "name": "stdout",
     "output_type": "stream",
     "text": [
      "Epoch 99 Step 600.000000 Loss 1.618090 Prec 81.640625\r"
     ]
    }
   ],
   "source": [
    "client_update(model, dataloader, epoch=100)"
   ]
  },
  {
   "cell_type": "code",
   "execution_count": 25,
   "metadata": {},
   "outputs": [
    {
     "data": {
      "text/html": [
       "Finishing last run (ID:p3qi3eoq) before initializing another..."
      ],
      "text/plain": [
       "<IPython.core.display.HTML object>"
      ]
     },
     "metadata": {},
     "output_type": "display_data"
    },
    {
     "data": {
      "text/html": [
       "Waiting for W&B process to finish... <strong style=\"color:green\">(success).</strong>"
      ],
      "text/plain": [
       "<IPython.core.display.HTML object>"
      ]
     },
     "metadata": {},
     "output_type": "display_data"
    },
    {
     "data": {
      "text/html": [
       " View run <strong style=\"color:#cdcd00\">lively-snow-37</strong> at: <a href='https://wandb.ai/greatml/FedSPK/runs/p3qi3eoq' target=\"_blank\">https://wandb.ai/greatml/FedSPK/runs/p3qi3eoq</a><br/>Synced 6 W&B file(s), 0 media file(s), 0 artifact file(s) and 0 other file(s)"
      ],
      "text/plain": [
       "<IPython.core.display.HTML object>"
      ]
     },
     "metadata": {},
     "output_type": "display_data"
    },
    {
     "data": {
      "text/html": [
       "Find logs at: <code>/nvme/zhiyong/wandb/wandb/run-20230321_070048-p3qi3eoq/logs</code>"
      ],
      "text/plain": [
       "<IPython.core.display.HTML object>"
      ]
     },
     "metadata": {},
     "output_type": "display_data"
    },
    {
     "data": {
      "text/html": [
       "Successfully finished last run (ID:p3qi3eoq). Initializing new run:<br/>"
      ],
      "text/plain": [
       "<IPython.core.display.HTML object>"
      ]
     },
     "metadata": {},
     "output_type": "display_data"
    },
    {
     "data": {
      "application/vnd.jupyter.widget-view+json": {
       "model_id": "3f23b9f4b1e147c79dff1d5a16eacad8",
       "version_major": 2,
       "version_minor": 0
      },
      "text/plain": [
       "VBox(children=(Label(value='Waiting for wandb.init()...\\r'), FloatProgress(value=0.016668717516586183, max=1.0…"
      ]
     },
     "metadata": {},
     "output_type": "display_data"
    },
    {
     "data": {
      "text/html": [
       "wandb version 0.14.0 is available!  To upgrade, please run:\n",
       " $ pip install wandb --upgrade"
      ],
      "text/plain": [
       "<IPython.core.display.HTML object>"
      ]
     },
     "metadata": {},
     "output_type": "display_data"
    },
    {
     "data": {
      "text/html": [
       "Tracking run with wandb version 0.13.10"
      ],
      "text/plain": [
       "<IPython.core.display.HTML object>"
      ]
     },
     "metadata": {},
     "output_type": "display_data"
    },
    {
     "data": {
      "text/html": [
       "Run data is saved locally in <code>/nvme/zhiyong/wandb/wandb/run-20230321_073057-5xrhheai</code>"
      ],
      "text/plain": [
       "<IPython.core.display.HTML object>"
      ]
     },
     "metadata": {},
     "output_type": "display_data"
    },
    {
     "data": {
      "text/html": [
       "Syncing run <strong><a href='https://wandb.ai/greatml/FedSPK/runs/5xrhheai' target=\"_blank\">wise-pine-38</a></strong> to <a href='https://wandb.ai/greatml/FedSPK' target=\"_blank\">Weights & Biases</a> (<a href='https://wandb.me/run' target=\"_blank\">docs</a>)<br/>"
      ],
      "text/plain": [
       "<IPython.core.display.HTML object>"
      ]
     },
     "metadata": {},
     "output_type": "display_data"
    },
    {
     "data": {
      "text/html": [
       " View project at <a href='https://wandb.ai/greatml/FedSPK' target=\"_blank\">https://wandb.ai/greatml/FedSPK</a>"
      ],
      "text/plain": [
       "<IPython.core.display.HTML object>"
      ]
     },
     "metadata": {},
     "output_type": "display_data"
    },
    {
     "data": {
      "text/html": [
       " View run at <a href='https://wandb.ai/greatml/FedSPK/runs/5xrhheai' target=\"_blank\">https://wandb.ai/greatml/FedSPK/runs/5xrhheai</a>"
      ],
      "text/plain": [
       "<IPython.core.display.HTML object>"
      ]
     },
     "metadata": {},
     "output_type": "display_data"
    },
    {
     "name": "stdout",
     "output_type": "stream",
     "text": [
      "X_vector.py, Embedding size is 192,  Spec_aug False.\n",
      "Initialised Softmax Loss\n",
      "Initialised Softmax Loss\n",
      "Epoch 100 Step 600.000000 Loss 0.539701 Prec 98.958336\n",
      "X_vector.py, Embedding size is 192,  Spec_aug False.\n",
      "Initialised Softmax Loss\n",
      "Initialised Softmax Loss\n",
      "Epoch 100 Step 600.000000 Loss 1.592638 Prec 83.333336\n",
      "X_vector.py, Embedding size is 192,  Spec_aug False.\n",
      "Initialised Softmax Loss\n",
      "Initialised Softmax Loss\n",
      "Epoch 100 Step 600.000000 Loss 0.637071 Prec 98.5677110\n",
      "X_vector.py, Embedding size is 192,  Spec_aug False.\n",
      "Initialised Softmax Loss\n",
      "Initialised Softmax Loss\n",
      "Epoch 100 Step 600.000000 Loss 1.449087 Prec 86.328125\n",
      "X_vector.py, Embedding size is 192,  Spec_aug False.\n",
      "Initialised Softmax Loss\n",
      "Initialised Softmax Loss\n",
      "Epoch 100 Step 600.000000 Loss 0.608580 Prec 98.697914\n",
      "X_vector.py, Embedding size is 192,  Spec_aug False.\n",
      "Initialised Softmax Loss\n",
      "Initialised Softmax Loss\n",
      "Epoch 100 Step 600.000000 Loss 1.214664 Prec 91.015625\n",
      "X_vector.py, Embedding size is 192,  Spec_aug False.\n",
      "Initialised Softmax Loss\n",
      "Initialised Softmax Loss\n",
      "Epoch 100 Step 1400.000000 Loss 2.060708 Prec 73.883926\n",
      "X_vector.py, Embedding size is 192,  Spec_aug False.\n",
      "Initialised Softmax Loss\n",
      "Initialised Softmax Loss\n",
      "Epoch 100 Step 1400.000000 Loss 3.160901 Prec 42.020088\n",
      "X_vector.py, Embedding size is 192,  Spec_aug False.\n",
      "Initialised Softmax Loss\n",
      "Initialised Softmax Loss\n",
      "Epoch 100 Step 1400.000000 Loss 2.260844 Prec 70.424110\n",
      "X_vector.py, Embedding size is 192,  Spec_aug False.\n",
      "Initialised Softmax Loss\n",
      "Initialised Softmax Loss\n",
      "Epoch 100 Step 1400.000000 Loss 2.727680 Prec 57.589287\n",
      "X_vector.py, Embedding size is 192,  Spec_aug False.\n",
      "Initialised Softmax Loss\n",
      "Initialised Softmax Loss\n",
      "Epoch 100 Step 1400.000000 Loss 2.235335 Prec 69.196426\n",
      "X_vector.py, Embedding size is 192,  Spec_aug False.\n",
      "Initialised Softmax Loss\n",
      "Initialised Softmax Loss\n",
      "Epoch 100 Step 1400.000000 Loss 2.553797 Prec 60.770088\n"
     ]
    }
   ],
   "source": [
    "run = wandb.init(\n",
    "    # set the wandb project where this run will be logged\n",
    "    project=\"FedSPK\",\n",
    "    notes=\"ID_models for STD: std_FL test compact testing, canoical.pth\",\n",
    "    job_type=\"upload-artifacts\",\n",
    "    tags=\"model_artifacts\",\n",
    "    dir='/nvme/zhiyong/wandb'\n",
    ")\n",
    "\n",
    "for i in range(12):\n",
    "    train_id_model('/workspace/FedSPK/artifacts/Artifact0.8790510733321198:v0/STD: std_FL test compact testing, canoical.pth',\n",
    "                   '/workspace/flearn_data/IDtrain_list_G%d.txt' % (i+1), id=(i+1), wandb_run=run)\n",
    "    print('')\n",
    "\n",
    "run.finish()"
   ]
  },
  {
   "cell_type": "code",
   "execution_count": 26,
   "metadata": {},
   "outputs": [
    {
     "data": {
      "text/html": [
       "Waiting for W&B process to finish... <strong style=\"color:green\">(success).</strong>"
      ],
      "text/plain": [
       "<IPython.core.display.HTML object>"
      ]
     },
     "metadata": {},
     "output_type": "display_data"
    },
    {
     "data": {
      "text/html": [
       " View run <strong style=\"color:#cdcd00\">wise-pine-38</strong> at: <a href='https://wandb.ai/greatml/FedSPK/runs/5xrhheai' target=\"_blank\">https://wandb.ai/greatml/FedSPK/runs/5xrhheai</a><br/>Synced 6 W&B file(s), 0 media file(s), 12 artifact file(s) and 0 other file(s)"
      ],
      "text/plain": [
       "<IPython.core.display.HTML object>"
      ]
     },
     "metadata": {},
     "output_type": "display_data"
    },
    {
     "data": {
      "text/html": [
       "Find logs at: <code>/nvme/zhiyong/wandb/wandb/run-20230321_073057-5xrhheai/logs</code>"
      ],
      "text/plain": [
       "<IPython.core.display.HTML object>"
      ]
     },
     "metadata": {},
     "output_type": "display_data"
    }
   ],
   "source": [
    "run.finish()"
   ]
  },
  {
   "cell_type": "code",
   "execution_count": 12,
   "metadata": {},
   "outputs": [
    {
     "name": "stderr",
     "output_type": "stream",
     "text": [
      "Failed to detect the name of this notebook, you can set it manually with the WANDB_NOTEBOOK_NAME environment variable to enable code saving.\n",
      "\u001b[34m\u001b[1mwandb\u001b[0m: Currently logged in as: \u001b[33mbicbrv\u001b[0m (\u001b[33mgreatml\u001b[0m). Use \u001b[1m`wandb login --relogin`\u001b[0m to force relogin\n"
     ]
    },
    {
     "data": {
      "text/html": [
       "wandb version 0.14.0 is available!  To upgrade, please run:\n",
       " $ pip install wandb --upgrade"
      ],
      "text/plain": [
       "<IPython.core.display.HTML object>"
      ]
     },
     "metadata": {},
     "output_type": "display_data"
    },
    {
     "data": {
      "text/html": [
       "Tracking run with wandb version 0.13.10"
      ],
      "text/plain": [
       "<IPython.core.display.HTML object>"
      ]
     },
     "metadata": {},
     "output_type": "display_data"
    },
    {
     "data": {
      "text/html": [
       "Run data is saved locally in <code>/nvme/zhiyong/wandb/wandb/run-20230321_134130-d8o003qc</code>"
      ],
      "text/plain": [
       "<IPython.core.display.HTML object>"
      ]
     },
     "metadata": {},
     "output_type": "display_data"
    },
    {
     "data": {
      "text/html": [
       "Syncing run <strong><a href='https://wandb.ai/greatml/FedSPK/runs/d8o003qc' target=\"_blank\">astral-voice-40</a></strong> to <a href='https://wandb.ai/greatml/FedSPK' target=\"_blank\">Weights & Biases</a> (<a href='https://wandb.me/run' target=\"_blank\">docs</a>)<br/>"
      ],
      "text/plain": [
       "<IPython.core.display.HTML object>"
      ]
     },
     "metadata": {},
     "output_type": "display_data"
    },
    {
     "data": {
      "text/html": [
       " View project at <a href='https://wandb.ai/greatml/FedSPK' target=\"_blank\">https://wandb.ai/greatml/FedSPK</a>"
      ],
      "text/plain": [
       "<IPython.core.display.HTML object>"
      ]
     },
     "metadata": {},
     "output_type": "display_data"
    },
    {
     "data": {
      "text/html": [
       " View run at <a href='https://wandb.ai/greatml/FedSPK/runs/d8o003qc' target=\"_blank\">https://wandb.ai/greatml/FedSPK/runs/d8o003qc</a>"
      ],
      "text/plain": [
       "<IPython.core.display.HTML object>"
      ]
     },
     "metadata": {},
     "output_type": "display_data"
    },
    {
     "name": "stdout",
     "output_type": "stream",
     "text": [
      "X_vector.py, Embedding size is 192,  Spec_aug False.\n",
      "Initialised Softmax Loss\n",
      "Initialised Softmax Loss\n",
      "Epoch 100 Step 600.000000 Loss 0.601351 Prec 99.739586\n",
      "X_vector.py, Embedding size is 192,  Spec_aug False.\n",
      "Initialised Softmax Loss\n",
      "Initialised Softmax Loss\n",
      "Epoch 100 Step 600.000000 Loss 2.426138 Prec 77.864586\n",
      "X_vector.py, Embedding size is 192,  Spec_aug False.\n",
      "Initialised Softmax Loss\n",
      "Initialised Softmax Loss\n",
      "Epoch 100 Step 600.000000 Loss 0.952514 Prec 99.218750\n",
      "X_vector.py, Embedding size is 192,  Spec_aug False.\n",
      "Initialised Softmax Loss\n",
      "Initialised Softmax Loss\n",
      "Epoch 100 Step 600.000000 Loss 2.483494 Prec 66.796875\n",
      "X_vector.py, Embedding size is 192,  Spec_aug False.\n",
      "Initialised Softmax Loss\n",
      "Initialised Softmax Loss\n",
      "Epoch 100 Step 600.000000 Loss 0.876013 Prec 99.4791640\n",
      "X_vector.py, Embedding size is 192,  Spec_aug False.\n",
      "Initialised Softmax Loss\n",
      "Initialised Softmax Loss\n",
      "Epoch 100 Step 600.000000 Loss 2.202363 Prec 76.692711\n",
      "X_vector.py, Embedding size is 192,  Spec_aug False.\n",
      "Initialised Softmax Loss\n",
      "Initialised Softmax Loss\n",
      "Epoch 100 Step 1400.000000 Loss 2.438184 Prec 79.129463\n",
      "X_vector.py, Embedding size is 192,  Spec_aug False.\n",
      "Initialised Softmax Loss\n",
      "Initialised Softmax Loss\n",
      "Epoch 100 Step 1400.000000 Loss 3.794922 Prec 32.142857\n",
      "X_vector.py, Embedding size is 192,  Spec_aug False.\n",
      "Initialised Softmax Loss\n",
      "Initialised Softmax Loss\n",
      "Epoch 100 Step 1400.000000 Loss 2.837539 Prec 68.191963\n",
      "X_vector.py, Embedding size is 192,  Spec_aug False.\n",
      "Initialised Softmax Loss\n",
      "Initialised Softmax Loss\n",
      "Epoch 100 Step 1400.000000 Loss 3.464157 Prec 43.024555\n",
      "X_vector.py, Embedding size is 192,  Spec_aug False.\n",
      "Initialised Softmax Loss\n",
      "Initialised Softmax Loss\n",
      "Epoch 100 Step 1400.000000 Loss 2.873064 Prec 59.598213\n",
      "X_vector.py, Embedding size is 192,  Spec_aug False.\n",
      "Initialised Softmax Loss\n",
      "Initialised Softmax Loss\n",
      "Epoch 100 Step 1400.000000 Loss 3.418400 Prec 42.243305\n"
     ]
    },
    {
     "data": {
      "text/html": [
       "Waiting for W&B process to finish... <strong style=\"color:green\">(success).</strong>"
      ],
      "text/plain": [
       "<IPython.core.display.HTML object>"
      ]
     },
     "metadata": {},
     "output_type": "display_data"
    },
    {
     "data": {
      "text/html": [
       " View run <strong style=\"color:#cdcd00\">astral-voice-40</strong> at: <a href='https://wandb.ai/greatml/FedSPK/runs/d8o003qc' target=\"_blank\">https://wandb.ai/greatml/FedSPK/runs/d8o003qc</a><br/>Synced 6 W&B file(s), 0 media file(s), 12 artifact file(s) and 0 other file(s)"
      ],
      "text/plain": [
       "<IPython.core.display.HTML object>"
      ]
     },
     "metadata": {},
     "output_type": "display_data"
    },
    {
     "data": {
      "text/html": [
       "Find logs at: <code>/nvme/zhiyong/wandb/wandb/run-20230321_134130-d8o003qc/logs</code>"
      ],
      "text/plain": [
       "<IPython.core.display.HTML object>"
      ]
     },
     "metadata": {},
     "output_type": "display_data"
    }
   ],
   "source": [
    "run = wandb.init(\n",
    "    # set the wandb project where this run will be logged\n",
    "    project=\"FedSPK\",\n",
    "    notes=\"ID_models for STD: centerized training.pth\",\n",
    "    job_type=\"upload-artifacts\",\n",
    "    tags=\"model_artifacts\",\n",
    "    dir='/nvme/zhiyong/wandb'\n",
    ")\n",
    "\n",
    "for i in range(12):\n",
    "    train_id_model('/workspace/FedSPK/artifacts/Artifact0.9596814134430157:v0/STD: centerized training.pth',\n",
    "                   '/workspace/flearn_data/IDtrain_list_G%d.txt' % (i+1), id=(i+1), wandb_run=run)\n",
    "    print('')\n",
    "\n",
    "run.finish()"
   ]
  },
  {
   "attachments": {},
   "cell_type": "markdown",
   "metadata": {},
   "source": [
    "## Evaluate ID"
   ]
  },
  {
   "cell_type": "code",
   "execution_count": null,
   "metadata": {},
   "outputs": [],
   "source": []
  },
  {
   "cell_type": "code",
   "execution_count": null,
   "metadata": {},
   "outputs": [],
   "source": [
    "# %%\n",
    "import time\n",
    "from src.DatasetLoader import loadWAV\n",
    "import os\n",
    "import sys\n",
    "\n",
    "\n",
    "def evaluateFromList(model, listfilename, print_interval=100, test_path='', num_eval=10, eval_frames=0, verbose=True):\n",
    "\n",
    "    model = model.cuda()\n",
    "\n",
    "    model.eval()\n",
    "\n",
    "    labels = []\n",
    "    files = []\n",
    "    feats = []\n",
    "    tstart = time.time()\n",
    "\n",
    "    # Read all lines\n",
    "    with open(listfilename) as listfile:\n",
    "        while True:\n",
    "            line = listfile.readline()\n",
    "            if (not line):\n",
    "                break\n",
    "\n",
    "            data = line.split()\n",
    "\n",
    "            files.append(data[1])\n",
    "            labels.append(data[0])\n",
    "\n",
    "    f_labels = []\n",
    "    # Save all features to file\n",
    "    for idx, (file, label) in enumerate(zip(files, labels)):\n",
    "\n",
    "        inp1 = torch.FloatTensor(loadWAV(os.path.join(\n",
    "            test_path, file), eval_frames, evalmode=True, num_eval=num_eval)).cuda()\n",
    "\n",
    "        try:\n",
    "            ref_feat = model.forward(inp1).detach().cpu()\n",
    "        except:\n",
    "            print(\"Error in file: \", file)\n",
    "            continue\n",
    "\n",
    "        feats.append(ref_feat)\n",
    "        f_labels.append(label)\n",
    "\n",
    "        telapsed = time.time() - tstart\n",
    "\n",
    "        if (idx % print_interval == 0) and verbose:\n",
    "            sys.stdout.write(\"\\rReading %d of %d: %.2f Hz, embedding size %d\" % (\n",
    "                idx, len(files), idx/telapsed, ref_feat.size()[1]))\n",
    "\n",
    "    tstart = time.time()\n",
    "\n",
    "    return feats, f_labels\n"
   ]
  },
  {
   "cell_type": "code",
   "execution_count": null,
   "metadata": {},
   "outputs": [],
   "source": [
    "# use wandb artifact outside a run\n",
    "\n",
    "import wandb\n",
    "\n",
    "api = wandb.Api()\n",
    "artifact = api.artifact('greatml/FedSPK/ID_model12:v0')\n",
    "\n",
    "datadir = artifact.download()"
   ]
  },
  {
   "attachments": {},
   "cell_type": "markdown",
   "metadata": {},
   "source": [
    "## Playground"
   ]
  },
  {
   "cell_type": "code",
   "execution_count": 34,
   "metadata": {},
   "outputs": [],
   "source": [
    "# generate random y_test\n",
    "y_test = np.random.randint(0, 3, size=100)\n",
    "\n",
    "# generate random y_score for 3 classes, which sum to 1.0\n",
    "y_score = np.random.rand(100, 3)\n",
    "y_score /= y_score.sum(axis=1)[:, np.newaxis]\n",
    "\n",
    "\n",
    "# Binarize the output\n",
    "y_test_bin = label_binarize(y_test, classes=[0, 1, 2])\n",
    "n_classes = y_test_bin.shape[1]"
   ]
  },
  {
   "cell_type": "code",
   "execution_count": 36,
   "metadata": {},
   "outputs": [],
   "source": [
    "fpr, tpr, _ = roc_curve(y_test_bin[:, 0], y_score[:, 0])"
   ]
  },
  {
   "cell_type": "code",
   "execution_count": 39,
   "metadata": {},
   "outputs": [
    {
     "data": {
      "image/png": "[encoded data removed]",
      "text/plain": [
       "<Figure size 640x480 with 1 Axes>"
      ]
     },
     "metadata": {},
     "output_type": "display_data"
    }
   ],
   "source": [
    "import numpy as np\n",
    "from sklearn.metrics import roc_curve, auc\n",
    "from sklearn.preprocessing import label_binarize\n",
    "from sklearn.multiclass import OneVsRestClassifier\n",
    "import matplotlib.pyplot as plt\n",
    "\n",
    "# Assuming you have X_train, X_test, y_train, y_test, and a classifier called 'clf'\n",
    "\n",
    "# generate random y_test\n",
    "y_test = np.random.randint(0, 3, size=100)\n",
    "\n",
    "# generate random y_score for 3 classes, which sum to 1.0\n",
    "y_score = np.random.rand(100, 3)\n",
    "y_score /= y_score.sum(axis=1)[:, np.newaxis]\n",
    "\n",
    "\n",
    "# Binarize the output\n",
    "y_test_bin = label_binarize(y_test, classes=[0, 1, 2])\n",
    "n_classes = y_test_bin.shape[1]\n",
    "\n",
    "# # Train a OneVsRestClassifier using your classifier\n",
    "# ovr_clf = OneVsRestClassifier(clf)\n",
    "# y_score = ovr_clf.fit(X_train, y_train).decision_function(X_test)\n",
    "\n",
    "# Compute ROC curve and ROC area for each class\n",
    "fpr = dict()\n",
    "tpr = dict()\n",
    "roc_auc = dict()\n",
    "for i in range(n_classes):\n",
    "    fpr[i], tpr[i], _ = roc_curve(y_test_bin[:, i], y_score[:, i])\n",
    "    roc_auc[i] = auc(fpr[i], tpr[i])\n",
    "\n",
    "# Compute micro-average ROC curve and ROC area\n",
    "fpr[\"micro\"], tpr[\"micro\"], _ = roc_curve(y_test_bin.ravel(), y_score.ravel())\n",
    "roc_auc[\"micro\"] = auc(fpr[\"micro\"], tpr[\"micro\"])\n",
    "\n",
    "# Compute macro-average ROC curve and ROC area\n",
    "all_fpr = np.unique(np.concatenate([fpr[i] for i in range(n_classes)]))\n",
    "\n",
    "# Interpolate all ROC curves at this points\n",
    "mean_tpr = np.zeros_like(all_fpr)\n",
    "for i in range(n_classes):\n",
    "    mean_tpr += np.interp(all_fpr, fpr[i], tpr[i])\n",
    "\n",
    "# Average it and compute AUC\n",
    "mean_tpr /= n_classes\n",
    "\n",
    "fpr[\"macro\"] = all_fpr\n",
    "tpr[\"macro\"] = mean_tpr\n",
    "roc_auc[\"macro\"] = auc(fpr[\"macro\"], tpr[\"macro\"])\n",
    "\n",
    "# Plot micro and macro ROC curves\n",
    "plt.figure()\n",
    "plt.plot(fpr[\"micro\"], tpr[\"micro\"],\n",
    "         label='micro-average ROC curve (area = {0:0.2f})'\n",
    "               ''.format(roc_auc[\"micro\"]),\n",
    "         color='deeppink', linestyle=':', linewidth=4)\n",
    "\n",
    "plt.plot(fpr[\"macro\"], tpr[\"macro\"],\n",
    "         label='macro-average ROC curve (area = {0:0.2f})'\n",
    "               ''.format(roc_auc[\"macro\"]),\n",
    "         color='navy', linestyle=':', linewidth=4)\n",
    "\n",
    "plt.plot([0, 1], [0, 1], 'k--', lw=2)\n",
    "plt.xlim([0.0, 1.0])\n",
    "plt.ylim([0.0, 1.05])\n",
    "plt.xlabel('False Positive Rate')\n",
    "plt.ylabel('True Positive Rate')\n",
    "plt.title('Micro and Macro ROC curves for multi-class classification')\n",
    "plt.legend(loc=\"lower right\")\n",
    "plt.show()\n"
   ]
  },
  {
   "cell_type": "code",
   "execution_count": 13,
   "metadata": {},
   "outputs": [
    {
     "data": {
      "image/png": "[encoded data removed]",
      "text/plain": [
       "<Figure size 640x480 with 1 Axes>"
      ]
     },
     "metadata": {},
     "output_type": "display_data"
    }
   ],
   "source": [
    "# 导入所需库\n",
    "import numpy as np\n",
    "from sklearn.metrics import roc_curve, auc\n",
    "from sklearn.preprocessing import label_binarize\n",
    "import matplotlib.pyplot as plt\n",
    "\n",
    "# 随机生成数据\n",
    "n_classes = 4 # 类别数\n",
    "n_samples = 100 # 样本数\n",
    "y_true = np.random.randint(0, n_classes, size=n_samples) # 真实标签\n",
    "y_score = np.random.rand(n_samples, n_classes) # 预测概率\n",
    "\n",
    "# 将标签和概率二值化\n",
    "y_true_bin = label_binarize(y_true, classes=np.arange(n_classes))\n",
    "y_score_bin = y_score / y_score.sum(axis=1)[:, np.newaxis]\n",
    "\n",
    "# 计算每个类别的fpr和tpr\n",
    "fpr = dict()\n",
    "tpr = dict()\n",
    "roc_auc = dict()\n",
    "for i in range(n_classes):\n",
    "    fpr[i], tpr[i], _ = roc_curve(y_true_bin[:, i], y_score_bin[:, i])\n",
    "    roc_auc[i] = auc(fpr[i], tpr[i])\n",
    "\n",
    "# 绘制roc曲线\n",
    "plt.figure()\n",
    "colors = ['blue', 'red', 'green', 'orange']\n",
    "for i, color in zip(range(n_classes), colors):\n",
    "    plt.plot(fpr[i], tpr[i], color=color,\n",
    "             label='ROC curve of class {0} (area = {1:0.2f})'\n",
    "             ''.format(i, roc_auc[i]))\n",
    "plt.plot([0, 1], [0, 1], 'k--')\n",
    "plt.xlim([0.0, 1.0])\n",
    "plt.ylim([0.0, 1.05])\n",
    "plt.xlabel('False Positive Rate')\n",
    "plt.ylabel('True Positive Rate')\n",
    "plt.title('ROC curve for multi-class classification')\n",
    "plt.legend(loc=\"lower right\")\n",
    "plt.show()"
   ]
  },
  {
   "cell_type": "code",
   "execution_count": 1,
   "metadata": {},
   "outputs": [
    {
     "name": "stdout",
     "output_type": "stream",
     "text": [
      "No Skill: ROC AUC=0.500\n",
      "Logistic: ROC AUC=0.541\n"
     ]
    },
    {
     "data": {
      "image/png": "[encoded data removed]",
      "text/plain": [
       "<Figure size 640x480 with 1 Axes>"
      ]
     },
     "metadata": {},
     "output_type": "display_data"
    }
   ],
   "source": [
    "# draw binary classification roc curve demo\n",
    "from sklearn.metrics import roc_curve\n",
    "from sklearn.metrics import roc_auc_score\n",
    "from matplotlib import pyplot\n",
    "\n",
    "# generate random y_test\n",
    "from numpy import random\n",
    "y_test = random.randint(3, size=100)\n",
    "\n",
    "# generate a no skill prediction (majority class)\n",
    "# ns_probs = [0 for _ in range(len(y_test))]\n",
    "# predict probabilities\n",
    "# lr_probs = model.predict_proba(X_test)\n",
    "\n",
    "# generate random lr_probs\n",
    "lr_probs = random.rand(len(y_test), 3)\n",
    " \n",
    "# keep probabilities for the positive outcome only\n",
    "lr_probs = lr_probs[:, 1]\n",
    "# calculate scores\n",
    "ns_auc = roc_auc_score(y_test, ns_probs)\n",
    "lr_auc = roc_auc_score(y_test, lr_probs)\n",
    "# summarize scores\n",
    "print('No Skill: ROC AUC=%.3f' % (ns_auc))\n",
    "print('Logistic: ROC AUC=%.3f' % (lr_auc))\n",
    "# calculate roc curves\n",
    "# ns_fpr, ns_tpr, _ = roc_curve(y_test, ns_probs)\n",
    "lr_fpr, lr_tpr, _ = roc_curve(y_test, lr_probs)\n",
    "# plot the roc curve for the model\n",
    "pyplot.plot(ns_fpr, ns_tpr, linestyle='--', label='No Skill')\n",
    "pyplot.plot(lr_fpr, lr_tpr, marker='.', label='Logistic')\n",
    "# axis labels\n",
    "pyplot.xlabel('False Positive Rate')\n",
    "pyplot.ylabel('True Positive Rate')\n",
    "# show the legend\n",
    "pyplot.legend()\n",
    "# show the plot\n",
    "pyplot.show()\n"
   ]
  },
  {
   "cell_type": "code",
   "execution_count": null,
   "metadata": {},
   "outputs": [],
   "source": [
    "# draw binary classification curve demo\n",
    "import numpy as np\n",
    "import matplotlib.pyplot as plt\n",
    "\n",
    "\n",
    "def draw_binary_classification_curve_demo():\n",
    "    # generate 2 class dataset\n",
    "    mean1 = [1, 20]\n",
    "    cov1 = [[1, 1], [1, 2]]\n",
    "    x1, y1 = np.random.multivariate_normal(mean1, cov1, 1000).T\n",
    "    mean2 = [20, 1]\n",
    "    cov2 = [[2, 1], [1, 1]]\n",
    "    x2, y2 = np.random.multivariate_normal(mean2, cov2, 1000).T\n",
    "\n",
    "    # draw scatter plot\n",
    "    plt.scatter(x1, y1, c='r', marker='x')\n",
    "    plt.scatter(x2, y2, c='b', marker='o')\n",
    "\n",
    "    # draw binary classification curve\n",
    "    x = np.linspace(0, 20, 100)\n",
    "    y = 0.5 * x + 10\n",
    "    plt.plot(x, y, c='g')\n",
    "\n",
    "    plt.show()\n"
   ]
  },
  {
   "cell_type": "code",
   "execution_count": null,
   "metadata": {},
   "outputs": [],
   "source": [
    "# # %%\n",
    "# import pickle\n",
    "\n",
    "# for i in range(12):\n",
    "#     feats, labels = evaluateFromList(model, \"../flearn_data/G%d_ID/train_list_G%d_ID.txt\"%(i+1,i+1))\n",
    "\n",
    "#     # save python objects feats and labels\n",
    "#     with open('../FL_log/feats_G%d_ID.pkl'%i, 'wb') as f:\n",
    "#         pickle.dump(feats, f)\n",
    "#     with open('../FL_log/labels_G%d_ID.pkl'%i, 'wb') as f:\n",
    "#         pickle.dump(labels, f)\n"
   ]
  }
 ],
 "metadata": {
  "kernelspec": {
   "display_name": "base",
   "language": "python",
   "name": "python3"
  },
  "language_info": {
   "codemirror_mode": {
    "name": "ipython",
    "version": 3
   },
   "file_extension": ".py",
   "mimetype": "text/x-python",
   "name": "python",
   "nbconvert_exporter": "python",
   "pygments_lexer": "ipython3",
   "version": "3.10.8"
  },
  "orig_nbformat": 4
 },
 "nbformat": 4,
 "nbformat_minor": 2
}
