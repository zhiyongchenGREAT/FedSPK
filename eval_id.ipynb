{
 "cells": [
  {
   "cell_type": "code",
   "execution_count": 2,
   "metadata": {},
   "outputs": [
    {
     "name": "stderr",
     "output_type": "stream",
     "text": [
      "\u001b[34m\u001b[1mwandb\u001b[0m:   1 of 1 files downloaded.  \n"
     ]
    }
   ],
   "source": [
    "# use wandb artifact outside a run\n",
    "\n",
    "import wandb\n",
    "\n",
    "api = wandb.Api()\n",
    "artifact = api.artifact('greatml/FedSPK/Artifact0.8790510733321198:v0')\n",
    "\n",
    "datadir = artifact.download()\n"
   ]
  },
  {
   "cell_type": "code",
   "execution_count": 3,
   "metadata": {},
   "outputs": [],
   "source": [
    "def loadParameters(model, path, map_location=\"cuda:0\"):\n",
    "\n",
    "    self_state = model.state_dict()\n",
    "    loaded_state = torch.load(path, map_location=map_location)\n",
    "\n",
    "    for name, param in loaded_state.items():\n",
    "        if '__L__.W' in name:\n",
    "            continue\n",
    "\n",
    "        origname = name\n",
    "        if name not in self_state:\n",
    "            name = name.replace(\"module.\", \"\")\n",
    "            if name not in self_state:\n",
    "                name = \"__S__.\"+name\n",
    "                if name not in self_state:\n",
    "                    print(\"#%s is not in the model.\" % origname)\n",
    "                    continue\n",
    "\n",
    "        if self_state[name].size() != loaded_state[origname].size():\n",
    "            print(\"#Wrong parameter length: %s, model: %s, loaded: %s\" % (\n",
    "                origname, self_state[name].size(), loaded_state['model'][origname].size()))\n",
    "            continue\n",
    "\n",
    "        self_state[name].copy_(param)\n"
   ]
  },
  {
   "cell_type": "code",
   "execution_count": 4,
   "metadata": {},
   "outputs": [],
   "source": [
    "# %%\n",
    "import time\n",
    "from src.DatasetLoader import loadWAV\n",
    "import os\n",
    "import sys\n",
    "\n",
    "\n",
    "def evaluateFromList(model, listfilename, print_interval=100, test_path='', num_eval=10, eval_frames=0, verbose=True):\n",
    "\n",
    "    model = model.cuda()\n",
    "\n",
    "    model.eval()\n",
    "\n",
    "    labels = []\n",
    "    files = []\n",
    "    feats = []\n",
    "    tstart = time.time()\n",
    "\n",
    "    # Read all lines\n",
    "    with open(listfilename) as listfile:\n",
    "        while True:\n",
    "            line = listfile.readline()\n",
    "            if (not line):\n",
    "                break\n",
    "\n",
    "            data = line.split()\n",
    "\n",
    "            files.append(data[1])\n",
    "            labels.append(data[0])\n",
    "\n",
    "    f_labels = []\n",
    "    # Save all features to file\n",
    "    for idx, (file, label) in enumerate(zip(files, labels)):\n",
    "\n",
    "        inp1 = torch.FloatTensor(loadWAV(os.path.join(\n",
    "            test_path, file), eval_frames, evalmode=True, num_eval=num_eval)).cuda()\n",
    "\n",
    "        try:\n",
    "            ref_feat = model.forward(inp1).detach().cpu()\n",
    "        except:\n",
    "            print(\"Error in file: \", file)\n",
    "            continue\n",
    "\n",
    "        feats.append(ref_feat)\n",
    "        f_labels.append(label)\n",
    "\n",
    "        telapsed = time.time() - tstart\n",
    "\n",
    "        if (idx % print_interval == 0) and verbose:\n",
    "            sys.stdout.write(\"\\rReading %d of %d: %.2f Hz, embedding size %d\" % (\n",
    "                idx, len(files), idx/telapsed, ref_feat.size()[1]))\n",
    "\n",
    "    tstart = time.time()\n",
    "\n",
    "    return feats, f_labels\n"
   ]
  },
  {
   "cell_type": "code",
   "execution_count": 5,
   "metadata": {},
   "outputs": [],
   "source": [
    "# %%\n",
    "# load the pytorch model\n",
    "\n",
    "import torch\n",
    "\n",
    "loaded_state = torch.load(\n",
    "    datadir + '/STD: std_FL test compact testing, canoical.pth', map_location='cpu')\n"
   ]
  },
  {
   "cell_type": "code",
   "execution_count": 5,
   "metadata": {},
   "outputs": [
    {
     "name": "stdout",
     "output_type": "stream",
     "text": [
      "X_vector.py, Embedding size is 192,  Spec_aug False.\n",
      "Initialised Softmax Loss\n",
      "Initialised Softmax Loss\n"
     ]
    }
   ],
   "source": [
    "# %%\n",
    "from src.SpeakerNet import SpeakerNet\n",
    "\n",
    "model = SpeakerNet(model='X_vector', trainfunc='softmax', nPerSpeaker=1, Syncbatch=False,\n",
    "                   n_mels=40, nOut=192, spec_aug=False, nClasses=5994, additional_model=[True, False], ID_task=40)\n"
   ]
  },
  {
   "cell_type": "code",
   "execution_count": 7,
   "metadata": {},
   "outputs": [],
   "source": [
    "# %%\n",
    "loadParameters(model, datadir +\n",
    "               '/STD: std_FL test compact testing, canoical.pth')\n"
   ]
  },
  {
   "cell_type": "code",
   "execution_count": 2,
   "metadata": {},
   "outputs": [
    {
     "name": "stdout",
     "output_type": "stream",
     "text": [
      "tensor([[-0.6140, -1.7953, -0.7002],\n",
      "        [-0.4306,  0.6658, -0.3207]])\n",
      "tensor([[0.4496, 0.1380, 0.4125],\n",
      "        [0.1957, 0.5858, 0.2184]])\n"
     ]
    }
   ],
   "source": [
    "# pytorch softmax function demo\n",
    "\n",
    "import torch.nn.functional as F\n",
    "import torch\n",
    "\n",
    "\n",
    "x = torch.randn(2, 3)\n",
    "print(x)\n",
    "print(F.softmax(x, dim=1))\n"
   ]
  },
  {
   "cell_type": "code",
   "execution_count": 4,
   "metadata": {},
   "outputs": [
    {
     "data": {
      "text/plain": [
       "tensor([[ 1.0797, -1.3248, -0.8251,  0.4565,  1.3985],\n",
       "        [-0.3997,  0.0221,  0.1411,  0.1974,  0.0455]],\n",
       "       grad_fn=<AddmmBackward0>)"
      ]
     },
     "execution_count": 4,
     "metadata": {},
     "output_type": "execute_result"
    }
   ],
   "source": [
    "import torch.nn as nn\n",
    "\n",
    "fc = nn.Linear(3, 5)\n",
    "\n",
    "fc(x)\n"
   ]
  },
  {
   "cell_type": "code",
   "execution_count": 1,
   "metadata": {},
   "outputs": [
    {
     "name": "stdout",
     "output_type": "stream",
     "text": [
      "No Skill: ROC AUC=0.500\n",
      "Logistic: ROC AUC=0.541\n"
     ]
    },
    {
     "data": {
      "image/png": "[encoded data removed]",
      "text/plain": [
       "<Figure size 640x480 with 1 Axes>"
      ]
     },
     "metadata": {},
     "output_type": "display_data"
    }
   ],
   "source": [
    "# draw binary classification roc curve demo\n",
    "from sklearn.metrics import roc_curve\n",
    "from sklearn.metrics import roc_auc_score\n",
    "from matplotlib import pyplot\n",
    "\n",
    "# generate random y_test\n",
    "from numpy import random\n",
    "y_test = random.randint(2, size=100)\n",
    "\n",
    "# generate a no skill prediction (majority class)\n",
    "ns_probs = [0 for _ in range(len(y_test))]\n",
    "# predict probabilities\n",
    "# lr_probs = model.predict_proba(X_test)\n",
    "\n",
    "# generate random lr_probs\n",
    "lr_probs = random.rand(len(y_test), 2)\n",
    "\n",
    "# keep probabilities for the positive outcome only\n",
    "lr_probs = lr_probs[:, 1]\n",
    "# calculate scores\n",
    "ns_auc = roc_auc_score(y_test, ns_probs)\n",
    "lr_auc = roc_auc_score(y_test, lr_probs)\n",
    "# summarize scores\n",
    "print('No Skill: ROC AUC=%.3f' % (ns_auc))\n",
    "print('Logistic: ROC AUC=%.3f' % (lr_auc))\n",
    "# calculate roc curves\n",
    "ns_fpr, ns_tpr, _ = roc_curve(y_test, ns_probs)\n",
    "lr_fpr, lr_tpr, _ = roc_curve(y_test, lr_probs)\n",
    "# plot the roc curve for the model\n",
    "pyplot.plot(ns_fpr, ns_tpr, linestyle='--', label='No Skill')\n",
    "pyplot.plot(lr_fpr, lr_tpr, marker='.', label='Logistic')\n",
    "# axis labels\n",
    "pyplot.xlabel('False Positive Rate')\n",
    "pyplot.ylabel('True Positive Rate')\n",
    "# show the legend\n",
    "pyplot.legend()\n",
    "# show the plot\n",
    "pyplot.show()\n"
   ]
  },
  {
   "cell_type": "code",
   "execution_count": null,
   "metadata": {},
   "outputs": [],
   "source": [
    "# draw binary classification curve demo\n",
    "import numpy as np\n",
    "import matplotlib.pyplot as plt\n",
    "\n",
    "\n",
    "def draw_binary_classification_curve_demo():\n",
    "    # generate 2 class dataset\n",
    "    mean1 = [1, 20]\n",
    "    cov1 = [[1, 1], [1, 2]]\n",
    "    x1, y1 = np.random.multivariate_normal(mean1, cov1, 1000).T\n",
    "    mean2 = [20, 1]\n",
    "    cov2 = [[2, 1], [1, 1]]\n",
    "    x2, y2 = np.random.multivariate_normal(mean2, cov2, 1000).T\n",
    "\n",
    "    # draw scatter plot\n",
    "    plt.scatter(x1, y1, c='r', marker='x')\n",
    "    plt.scatter(x2, y2, c='b', marker='o')\n",
    "\n",
    "    # draw binary classification curve\n",
    "    x = np.linspace(0, 20, 100)\n",
    "    y = 0.5 * x + 10\n",
    "    plt.plot(x, y, c='g')\n",
    "\n",
    "    plt.show()\n"
   ]
  },
  {
   "cell_type": "code",
   "execution_count": null,
   "metadata": {},
   "outputs": [],
   "source": [
    "# # %%\n",
    "# import pickle\n",
    "\n",
    "# for i in range(12):\n",
    "#     feats, labels = evaluateFromList(model, \"../flearn_data/G%d_ID/train_list_G%d_ID.txt\"%(i+1,i+1))\n",
    "\n",
    "#     # save python objects feats and labels\n",
    "#     with open('../FL_log/feats_G%d_ID.pkl'%i, 'wb') as f:\n",
    "#         pickle.dump(feats, f)\n",
    "#     with open('../FL_log/labels_G%d_ID.pkl'%i, 'wb') as f:\n",
    "#         pickle.dump(labels, f)\n"
   ]
  }
 ],
 "metadata": {
  "kernelspec": {
   "display_name": "base",
   "language": "python",
   "name": "python3"
  },
  "language_info": {
   "codemirror_mode": {
    "name": "ipython",
    "version": 3
   },
   "file_extension": ".py",
   "mimetype": "text/x-python",
   "name": "python",
   "nbconvert_exporter": "python",
   "pygments_lexer": "ipython3",
   "version": "3.10.8"
  },
  "orig_nbformat": 4
 },
 "nbformat": 4,
 "nbformat_minor": 2
}
